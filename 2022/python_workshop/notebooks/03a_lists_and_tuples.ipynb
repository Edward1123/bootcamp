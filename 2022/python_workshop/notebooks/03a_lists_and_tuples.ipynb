{
 "cells": [
  {
   "cell_type": "markdown",
   "metadata": {},
   "source": [
    "# Lists\n",
    "\n",
    "A list in python is used to store multiple items in a single variable; these items may be of different data types.\n",
    "\n",
    "`driver = \"Leclerc\"`\n",
    "\n",
    "In this example, we've assigned the name of a driver to the variable. Easy.\n",
    "\n",
    "But what if we want to store multiple drivers?\n",
    "\n",
    "```\n",
    "driver1 = \"Leclerc\"\n",
    "driver2 = \"Sainz\"\n",
    "```\n",
    "\n",
    "To print out these drivers, we could do something like this:\n",
    "\n",
    "```\n",
    "print(driver1, driver2)\n",
    "```\n",
    "\n",
    "This would be easier if we used a list!\n",
    "\n",
    "```\n",
    "f1_drivers = [\"Leclerc\", \"Verstappen\"]\n",
    "```\n",
    "\n",
    "We can access the elements on the list based on the index. Remember, arrays always start at 0.\n",
    "\n",
    "What do you think the following code will print out?"
   ]
  },
  {
   "cell_type": "code",
   "execution_count": null,
   "metadata": {},
   "outputs": [],
   "source": [
    "f1_drivers = [\"Leclerc\", \"Verstappen\"]\n",
    "print(f1_drivers[1])\n"
   ]
  },
  {
   "cell_type": "markdown",
   "metadata": {},
   "source": [
    "Let's create add more drivers to this list."
   ]
  },
  {
   "cell_type": "code",
   "execution_count": null,
   "metadata": {},
   "outputs": [],
   "source": [
    "# using the append method - add one element\n",
    "f1_drivers.append(\"Hamilton\")\n",
    "f1_drivers.append(\"Norris\")\n",
    "\n",
    "# using the + operator - add multiple elements\n",
    "f1_drivers = f1_drivers + [\"Alonso\", \"Bottas\"]\n",
    "\n",
    "# using the extend method - add another list to the list\n",
    "f1_drivers.extend([\"Gasly\"])\n",
    "f1_drivers.extend([\"Vettel\", \"Schumacher\", \"Albon\", \"Hulkenberg\"])\n",
    "\n",
    "print(f1_drivers)"
   ]
  },
  {
   "cell_type": "code",
   "execution_count": null,
   "metadata": {},
   "outputs": [],
   "source": [
    "# we should probably remove Hulkenberg\n",
    "\n",
    "# remove the last entry\n",
    "last_entry = f1_drivers.pop()\n",
    "\n",
    "print(last_entry)\n",
    "print(f1_drivers)\n",
    "\n",
    "# other ways to remove items from a list\n",
    "\n",
    "# add Hulkenberg back\n",
    "f1_drivers.append(last_entry)\n",
    "print(f1_drivers)\n",
    "#so we can remove him again\n",
    "f1_drivers.remove(last_entry)\n",
    "\n",
    "print(f1_drivers)"
   ]
  },
  {
   "cell_type": "markdown",
   "metadata": {},
   "source": [
    "What if we want to map the drivers with their team?"
   ]
  },
  {
   "cell_type": "code",
   "execution_count": null,
   "metadata": {},
   "outputs": [],
   "source": [
    "# create a list of teams\n",
    "f1_teams = []\n",
    "\n",
    "# add all the teams to the list using the preferred method\n",
    "# the 2022 F1 teams are (for accurate results use this order!)\n",
    "# Ferrari, Redbull, Mercedes, McLaren, Alpine, Alfa Romeo, Alpha Tauri, Aston Martin, Haas, Williams\n",
    "\n",
    "f1_teams = [\"Ferrari\", \"Redbull\", \"Mercedes\", \"McLaren\", \"Alpine\", \"Alfa Romeo\", \"Alpha Tauri\", \"Aston Martin\", \"Haas\", \"Williams\"]"
   ]
  },
  {
   "cell_type": "markdown",
   "metadata": {},
   "source": [
    "In order to map the two lists, we need to introduce the **pandas** framework.\n",
    "\n",
    "The pandas framework is used to data analysis and manipulation.\n"
   ]
  },
  {
   "cell_type": "code",
   "execution_count": null,
   "metadata": {},
   "outputs": [],
   "source": [
    "# let's import the framework; using an alias\n",
    "import pandas as pd"
   ]
  },
  {
   "cell_type": "markdown",
   "metadata": {},
   "source": [
    "So far, so good. Now for the challenging part.\n",
    "\n",
    "We need to define a variable using the f1_drivers and f1_teams variables as columns using the Dataframe function."
   ]
  },
  {
   "cell_type": "code",
   "execution_count": null,
   "metadata": {},
   "outputs": [],
   "source": [
    "# create an empty dataframe, with columns for driver and team\n",
    "df = pd.DataFrame(columns=['DRIVER', 'TEAM'])\n",
    "\n",
    "# label the columns\n",
    "df['DRIVER'], df['TEAM'] = f1_drivers, f1_teams\n",
    "\n",
    "# print the dataframe\n",
    "print(df)"
   ]
  }
 ],
 "metadata": {
  "kernelspec": {
   "display_name": "Python 3.10.5 64-bit",
   "language": "python",
   "name": "python3"
  },
  "language_info": {
   "codemirror_mode": {
    "name": "ipython",
    "version": 3
   },
   "file_extension": ".py",
   "mimetype": "text/x-python",
   "name": "python",
   "nbconvert_exporter": "python",
   "pygments_lexer": "ipython3",
   "version": "3.10.5"
  },
  "orig_nbformat": 4,
  "vscode": {
   "interpreter": {
    "hash": "aee8b7b246df8f9039afb4144a1f6fd8d2ca17a180786b69acc140d282b71a49"
   }
  }
 },
 "nbformat": 4,
 "nbformat_minor": 2
}
