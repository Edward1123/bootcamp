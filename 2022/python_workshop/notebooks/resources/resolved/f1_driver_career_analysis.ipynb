{
 "cells": [
  {
   "cell_type": "markdown",
   "metadata": {},
   "source": [
    "# Formula 1 Driver Career Analysis\n",
    "Let't analyse the career of one of the most succesful F1 drivers of all time.\n",
    "\n",
    "Pick a driver from the list in [this article](https://www.redbull.com/ca-en/best-f1-drivers-of-all-time) and analyse their career below.\n",
    "\n",
    "Or you can pick your favourite driver instead =)"
   ]
  },
  {
   "cell_type": "code",
   "execution_count": 64,
   "metadata": {},
   "outputs": [
    {
     "name": "stdout",
     "output_type": "stream",
     "text": [
      "Note: you may need to restart the kernel to use updated packages.\n"
     ]
    }
   ],
   "source": [
    "# make sure all requirements are up to date\n",
    "%pip install -r ../../../requirements.txt >> ../../results/requirements_log.txt"
   ]
  },
  {
   "cell_type": "code",
   "execution_count": 65,
   "metadata": {},
   "outputs": [],
   "source": [
    "# imports\n",
    "import pandas as pd\n",
    "import numpy as np"
   ]
  },
  {
   "cell_type": "code",
   "execution_count": 85,
   "metadata": {},
   "outputs": [
    {
     "data": {
      "text/html": [
       "<div>\n",
       "<style scoped>\n",
       "    .dataframe tbody tr th:only-of-type {\n",
       "        vertical-align: middle;\n",
       "    }\n",
       "\n",
       "    .dataframe tbody tr th {\n",
       "        vertical-align: top;\n",
       "    }\n",
       "\n",
       "    .dataframe thead th {\n",
       "        text-align: right;\n",
       "    }\n",
       "</style>\n",
       "<table border=\"1\" class=\"dataframe\">\n",
       "  <thead>\n",
       "    <tr style=\"text-align: right;\">\n",
       "      <th></th>\n",
       "      <th>season</th>\n",
       "      <th>round</th>\n",
       "      <th>date</th>\n",
       "      <th>circuit_id</th>\n",
       "      <th>driver</th>\n",
       "      <th>date_of_birth</th>\n",
       "      <th>nationality</th>\n",
       "      <th>constructor</th>\n",
       "      <th>grid</th>\n",
       "      <th>time</th>\n",
       "      <th>status</th>\n",
       "      <th>points</th>\n",
       "      <th>podium</th>\n",
       "    </tr>\n",
       "  </thead>\n",
       "  <tbody>\n",
       "    <tr>\n",
       "      <th>0</th>\n",
       "      <td>1950</td>\n",
       "      <td>1</td>\n",
       "      <td>1950-05-13</td>\n",
       "      <td>silverstone</td>\n",
       "      <td>farina</td>\n",
       "      <td>1906-10-30</td>\n",
       "      <td>Italian</td>\n",
       "      <td>alfa</td>\n",
       "      <td>1</td>\n",
       "      <td>8003600.0</td>\n",
       "      <td>Finished</td>\n",
       "      <td>9.0</td>\n",
       "      <td>1</td>\n",
       "    </tr>\n",
       "    <tr>\n",
       "      <th>1</th>\n",
       "      <td>1950</td>\n",
       "      <td>1</td>\n",
       "      <td>1950-05-13</td>\n",
       "      <td>silverstone</td>\n",
       "      <td>fagioli</td>\n",
       "      <td>1898-06-09</td>\n",
       "      <td>Italian</td>\n",
       "      <td>alfa</td>\n",
       "      <td>2</td>\n",
       "      <td>8006200.0</td>\n",
       "      <td>Finished</td>\n",
       "      <td>6.0</td>\n",
       "      <td>2</td>\n",
       "    </tr>\n",
       "    <tr>\n",
       "      <th>2</th>\n",
       "      <td>1950</td>\n",
       "      <td>1</td>\n",
       "      <td>1950-05-13</td>\n",
       "      <td>silverstone</td>\n",
       "      <td>reg_parnell</td>\n",
       "      <td>1911-07-02</td>\n",
       "      <td>British</td>\n",
       "      <td>alfa</td>\n",
       "      <td>4</td>\n",
       "      <td>8055600.0</td>\n",
       "      <td>Finished</td>\n",
       "      <td>4.0</td>\n",
       "      <td>3</td>\n",
       "    </tr>\n",
       "    <tr>\n",
       "      <th>3</th>\n",
       "      <td>1950</td>\n",
       "      <td>1</td>\n",
       "      <td>1950-05-13</td>\n",
       "      <td>silverstone</td>\n",
       "      <td>cabantous</td>\n",
       "      <td>1904-10-08</td>\n",
       "      <td>French</td>\n",
       "      <td>lago</td>\n",
       "      <td>6</td>\n",
       "      <td>NaN</td>\n",
       "      <td>+2 Laps</td>\n",
       "      <td>3.0</td>\n",
       "      <td>4</td>\n",
       "    </tr>\n",
       "    <tr>\n",
       "      <th>4</th>\n",
       "      <td>1950</td>\n",
       "      <td>1</td>\n",
       "      <td>1950-05-13</td>\n",
       "      <td>silverstone</td>\n",
       "      <td>rosier</td>\n",
       "      <td>1905-11-05</td>\n",
       "      <td>French</td>\n",
       "      <td>lago</td>\n",
       "      <td>9</td>\n",
       "      <td>NaN</td>\n",
       "      <td>+2 Laps</td>\n",
       "      <td>2.0</td>\n",
       "      <td>5</td>\n",
       "    </tr>\n",
       "  </tbody>\n",
       "</table>\n",
       "</div>"
      ],
      "text/plain": [
       "   season  round        date   circuit_id       driver date_of_birth  \\\n",
       "0    1950      1  1950-05-13  silverstone       farina    1906-10-30   \n",
       "1    1950      1  1950-05-13  silverstone      fagioli    1898-06-09   \n",
       "2    1950      1  1950-05-13  silverstone  reg_parnell    1911-07-02   \n",
       "3    1950      1  1950-05-13  silverstone    cabantous    1904-10-08   \n",
       "4    1950      1  1950-05-13  silverstone       rosier    1905-11-05   \n",
       "\n",
       "  nationality constructor  grid       time    status  points  podium  \n",
       "0     Italian        alfa     1  8003600.0  Finished     9.0       1  \n",
       "1     Italian        alfa     2  8006200.0  Finished     6.0       2  \n",
       "2     British        alfa     4  8055600.0  Finished     4.0       3  \n",
       "3      French        lago     6        NaN   +2 Laps     3.0       4  \n",
       "4      French        lago     9        NaN   +2 Laps     2.0       5  "
      ]
     },
     "execution_count": 85,
     "metadata": {},
     "output_type": "execute_result"
    }
   ],
   "source": [
    "# load the dataset from file\n",
    "f1_results = pd.read_csv('../../resources/f1_results.csv', index_col=0)\n",
    "f1_results.rename(columns=lambda x: x.lower(), inplace=True)\n",
    "\n",
    "f1_results.head()"
   ]
  },
  {
   "cell_type": "code",
   "execution_count": 67,
   "metadata": {},
   "outputs": [
    {
     "name": "stdout",
     "output_type": "stream",
     "text": [
      "We will analyse lauda's career.\n"
     ]
    }
   ],
   "source": [
    "# pick a random driver\n",
    "random_driver = np.random.choice(f1_results['driver'].unique())\n",
    "print(f\"We will analyse {random_driver}'s career.\")\n"
   ]
  },
  {
   "cell_type": "code",
   "execution_count": 68,
   "metadata": {},
   "outputs": [
    {
     "name": "stdout",
     "output_type": "stream",
     "text": [
      "lauda's nationality is Austrian\n"
     ]
    }
   ],
   "source": [
    "# which driver have you chosen?\n",
    "driver = random_driver # 'max_verstappen'\n",
    "\n",
    "# what nationality is this driver?\n",
    "\n",
    "\"\"\"\n",
    "    ------------\n",
    "    First version\n",
    "    ------------\n",
    "\"\"\"\n",
    "\n",
    "nationality = \"\"\n",
    "for item in f1_results.values:\n",
    "    #print(item)\n",
    "    if item[4] == driver:\n",
    "        nationality = item[6]\n",
    "# print(f\"{driver}'s nationality is {nationality} -- Version 1\")\n",
    "\n",
    "\"\"\"\n",
    "    ------------\n",
    "    Pythonic version\n",
    "    ------------\n",
    "\"\"\"\n",
    "nationality = f1_results[f1_results['driver'] == driver]['nationality'].unique()[0]\n",
    "# print(*nationality)\n",
    "print(f\"{driver}'s nationality is {nationality}\")\n"
   ]
  },
  {
   "cell_type": "code",
   "execution_count": 69,
   "metadata": {},
   "outputs": [
    {
     "name": "stdout",
     "output_type": "stream",
     "text": [
      "march-ford\n",
      "1971-08-15\n",
      "lauda's first race was on 1971-08-15 with march-ford\n"
     ]
    }
   ],
   "source": [
    "# when was his first race and for which constructor?\n",
    "\"\"\"\n",
    "    ------------\n",
    "    First version\n",
    "    ------------\n",
    "\"\"\"\n",
    "for item in f1_results.values:\n",
    "    if item[4] == driver: \n",
    "        print(item[7])\n",
    "        print(item[2])\n",
    "        break\n",
    "        \n",
    "\"\"\"\n",
    "    ------------\n",
    "    Pythonic version\n",
    "    ------------\n",
    "\"\"\"\n",
    "races = f1_results[f1_results['driver'] == driver]\n",
    "first_race_date = races['date'].min()\n",
    "first_race_constructor = races[races['date'] == races['date'].min()].iloc[0]['constructor']\n",
    "print(f\"{driver}'s first race was on {first_race_date} with {first_race_constructor}\")"
   ]
  },
  {
   "cell_type": "code",
   "execution_count": 70,
   "metadata": {},
   "outputs": [
    {
     "name": "stdout",
     "output_type": "stream",
     "text": [
      "ferrari\n",
      "1974-01-13\n",
      "lauda's first podium was on 1974-01-13 with ferrari\n"
     ]
    }
   ],
   "source": [
    "# when was his first podium + with which constructor?\n",
    "\"\"\"\n",
    "    ------------\n",
    "    First version\n",
    "    ------------\n",
    "\"\"\"\n",
    "try:\n",
    "    list_to_append = []\n",
    "    for item in f1_results.values:\n",
    "        if item[4] == driver and item[12] in (1, 2, 3):\n",
    "            print(item[7])\n",
    "            print(item[2])\n",
    "            list_to_append.append(item[7])\n",
    "            break\n",
    "    list_to_append[0] \n",
    "except Exception as e:\n",
    "    print(e)\n",
    "    print(f\"{driver} has never been on the podium\")\n",
    "\n",
    "\"\"\"\n",
    "    ------------\n",
    "    Pythonic version\n",
    "    ------------\n",
    "\"\"\"\n",
    "try:\n",
    "    podiums = f1_results[(f1_results['driver'] == driver) & (f1_results['podium'].isin([1, 2, 3]))]\n",
    "    first_podium_date = podiums['date'].min()\n",
    "    first_podium_constructor = podiums[podiums['date'] == podiums['date'].min()].iloc[0]['constructor']\n",
    "    print(f\"{driver}'s first podium was on {first_podium_date} with {first_podium_constructor}\")\n",
    "except IndexError:\n",
    "    print(f\"{driver} has never been on the podium\")"
   ]
  },
  {
   "cell_type": "code",
   "execution_count": 71,
   "metadata": {},
   "outputs": [
    {
     "name": "stdout",
     "output_type": "stream",
     "text": [
      "ferrari\n",
      "1974-04-28\n",
      "jarama\n",
      "lauda's first win was on 1974-04-28 with ferrari at jarama\n"
     ]
    }
   ],
   "source": [
    "# what about his first win + with which constructor + which circuit?\n",
    "\"\"\"\n",
    "    ------------\n",
    "    First version\n",
    "    ------------\n",
    "\"\"\"\n",
    "try:\n",
    "    list_to_append = []\n",
    "    for item in f1_results.values:\n",
    "        if item[4] == driver and item[12] == 1:\n",
    "            print(item[7])\n",
    "            print(item[2])\n",
    "            print(item[3])\n",
    "            list_to_append.append(item[7])\n",
    "            break\n",
    "    list_to_append[0] \n",
    "except Exception as e:\n",
    "    print(e)\n",
    "    print(f\"{driver} has not won any race\")\n",
    "\n",
    "\"\"\"\n",
    "    ------------\n",
    "    Pythonic version\n",
    "    ------------\n",
    "\"\"\"\n",
    "try:\n",
    "    first_win = f1_results[(f1_results['driver'] == driver) & (f1_results['podium'] == 1)]\n",
    "    first_win_date = first_win['date'].min()\n",
    "    first_win_constructor = first_win[first_win['date'] == first_win['date'].min()].iloc[0]['constructor']\n",
    "    first_win_circuit = first_win[first_win['date'] == first_win['date'].min()].iloc[0]['circuit_id']\n",
    "    print(f\"{driver}'s first win was on {first_win_date} with {first_win_constructor} at {first_win_circuit}\")\n",
    "except IndexError:\n",
    "    print(f\"{driver} has not won any race\")"
   ]
  },
  {
   "cell_type": "code",
   "execution_count": 72,
   "metadata": {},
   "outputs": [
    {
     "name": "stdout",
     "output_type": "stream",
     "text": [
      "lauda has 172 race starts\n"
     ]
    }
   ],
   "source": [
    "# how many race starts?\n",
    "# hint: check the Status is NOT one of Did not qualify, Did not prequalify, Not classified\n",
    "race_starts = f1_results[(f1_results['driver'] == driver) & (~f1_results['status'].isin(['Did not qualify','Did not prequalify','Not classified']))].count()[0]\n",
    "print(f\"{driver} has {race_starts} race starts\")"
   ]
  },
  {
   "cell_type": "code",
   "execution_count": 73,
   "metadata": {},
   "outputs": [
    {
     "name": "stdout",
     "output_type": "stream",
     "text": [
      "lauda has finished 68 races\n"
     ]
    }
   ],
   "source": [
    "# how many of those races did he actually finished?\n",
    "# hint: look for Status Finished; for this exercise, we'll not consider other statuses as successful\n",
    "races_finished = f1_results[(f1_results['driver'] == driver) & (f1_results['status'].isin(['Finished']))].count()[0]\n",
    "print(f\"{driver} has finished {races_finished} races\")"
   ]
  },
  {
   "cell_type": "code",
   "execution_count": 74,
   "metadata": {},
   "outputs": [
    {
     "name": "stdout",
     "output_type": "stream",
     "text": [
      "lauda has won 25 races\n"
     ]
    }
   ],
   "source": [
    "# how many has he won?\n",
    "races_won = f1_results[(f1_results['driver'] == driver) & (f1_results['podium'] == 1)].count()[0]\n",
    "print(f\"{driver} has won {races_won} races\")"
   ]
  },
  {
   "cell_type": "code",
   "execution_count": 75,
   "metadata": {},
   "outputs": [
    {
     "data": {
      "text/html": [
       "<div>\n",
       "<style scoped>\n",
       "    .dataframe tbody tr th:only-of-type {\n",
       "        vertical-align: middle;\n",
       "    }\n",
       "\n",
       "    .dataframe tbody tr th {\n",
       "        vertical-align: top;\n",
       "    }\n",
       "\n",
       "    .dataframe thead th {\n",
       "        text-align: right;\n",
       "    }\n",
       "</style>\n",
       "<table border=\"1\" class=\"dataframe\">\n",
       "  <thead>\n",
       "    <tr style=\"text-align: right;\">\n",
       "      <th></th>\n",
       "      <th>driver</th>\n",
       "      <th>nationality</th>\n",
       "      <th>season</th>\n",
       "      <th>circuit_id</th>\n",
       "      <th>race_started</th>\n",
       "      <th>race_finished</th>\n",
       "      <th>race_won</th>\n",
       "      <th>constructor</th>\n",
       "    </tr>\n",
       "  </thead>\n",
       "  <tbody>\n",
       "    <tr>\n",
       "      <th>4472</th>\n",
       "      <td>lauda</td>\n",
       "      <td>Austrian</td>\n",
       "      <td>1971</td>\n",
       "      <td>red_bull_ring</td>\n",
       "      <td>True</td>\n",
       "      <td>False</td>\n",
       "      <td>False</td>\n",
       "      <td>march-ford</td>\n",
       "    </tr>\n",
       "    <tr>\n",
       "      <th>4567</th>\n",
       "      <td>lauda</td>\n",
       "      <td>Austrian</td>\n",
       "      <td>1972</td>\n",
       "      <td>galvez</td>\n",
       "      <td>True</td>\n",
       "      <td>False</td>\n",
       "      <td>False</td>\n",
       "      <td>march</td>\n",
       "    </tr>\n",
       "    <tr>\n",
       "      <th>4585</th>\n",
       "      <td>lauda</td>\n",
       "      <td>Austrian</td>\n",
       "      <td>1972</td>\n",
       "      <td>kyalami</td>\n",
       "      <td>True</td>\n",
       "      <td>False</td>\n",
       "      <td>False</td>\n",
       "      <td>march</td>\n",
       "    </tr>\n",
       "    <tr>\n",
       "      <th>4628</th>\n",
       "      <td>lauda</td>\n",
       "      <td>Austrian</td>\n",
       "      <td>1972</td>\n",
       "      <td>jarama</td>\n",
       "      <td>True</td>\n",
       "      <td>False</td>\n",
       "      <td>False</td>\n",
       "      <td>march</td>\n",
       "    </tr>\n",
       "    <tr>\n",
       "      <th>4646</th>\n",
       "      <td>lauda</td>\n",
       "      <td>Austrian</td>\n",
       "      <td>1972</td>\n",
       "      <td>monaco</td>\n",
       "      <td>True</td>\n",
       "      <td>False</td>\n",
       "      <td>False</td>\n",
       "      <td>march</td>\n",
       "    </tr>\n",
       "  </tbody>\n",
       "</table>\n",
       "</div>"
      ],
      "text/plain": [
       "     driver nationality  season     circuit_id  race_started  race_finished  \\\n",
       "4472  lauda    Austrian    1971  red_bull_ring          True          False   \n",
       "4567  lauda    Austrian    1972         galvez          True          False   \n",
       "4585  lauda    Austrian    1972        kyalami          True          False   \n",
       "4628  lauda    Austrian    1972         jarama          True          False   \n",
       "4646  lauda    Austrian    1972         monaco          True          False   \n",
       "\n",
       "      race_won constructor  \n",
       "4472     False  march-ford  \n",
       "4567     False       march  \n",
       "4585     False       march  \n",
       "4628     False       march  \n",
       "4646     False       march  "
      ]
     },
     "execution_count": 75,
     "metadata": {},
     "output_type": "execute_result"
    }
   ],
   "source": [
    "# create a dataframe that contains the follwing information:\n",
    "#\n",
    "# driver\n",
    "# nationality\n",
    "# season\n",
    "# circuit_id\n",
    "# race_started (Boolean)\n",
    "# race_finished (Boolean)\n",
    "# race_won (Boolean)\n",
    "# constructor\n",
    "\n",
    "f1_career = f1_results[f1_results['driver'] == driver]\n",
    "f1_career = f1_career.assign(\n",
    "    race_started=lambda x: ~x.status.isin(['Did not qualify','Did not prequalify','Not classified']),\n",
    "    race_finished=lambda x: x.status.isin(['Finished']),\n",
    "    race_won=lambda x: x.podium == 1\n",
    ")\n",
    "f1_career = f1_career[['driver','nationality','season','circuit_id','race_started','race_finished','race_won','constructor']]\n",
    "\n",
    "f1_career.head()"
   ]
  },
  {
   "cell_type": "markdown",
   "metadata": {},
   "source": [
    "## Plotting the results"
   ]
  },
  {
   "cell_type": "code",
   "execution_count": 76,
   "metadata": {},
   "outputs": [],
   "source": [
    "# plot the race results per season\n",
    "\n",
    "# prep the data\n",
    "f1_career['race_started'] = f1_career['race_started'].astype(int)\n",
    "f1_career['race_finished'] = f1_career['race_finished'].astype(int)\n",
    "f1_career['race_won'] = f1_career['race_won'].astype(int)\n",
    "\n",
    "plot_data_wins = f1_career.pivot_table(index=\"season\", columns=\"driver\", values=\"race_won\", aggfunc=\"sum\")\n",
    "plot_data_start = f1_career.pivot_table(index=\"season\", columns=\"driver\", values=\"race_started\", aggfunc=\"sum\")\n"
   ]
  },
  {
   "cell_type": "code",
   "execution_count": 77,
   "metadata": {},
   "outputs": [
    {
     "data": {
      "text/plain": [
       "<AxesSubplot:title={'center':\"lauda's F1 Wins\"}, xlabel='season', ylabel='races'>"
      ]
     },
     "execution_count": 77,
     "metadata": {},
     "output_type": "execute_result"
    },
    {
     "data": {
      "image/png": "[encoded data removed]",
      "text/plain": [
       "<Figure size 432x288 with 1 Axes>"
      ]
     },
     "metadata": {
      "needs_background": "light"
     },
     "output_type": "display_data"
    }
   ],
   "source": [
    "plot_data_wins.plot(title=f\"{driver}'s F1 Wins\", ylabel=\"races\")"
   ]
  },
  {
   "cell_type": "code",
   "execution_count": 78,
   "metadata": {},
   "outputs": [
    {
     "data": {
      "text/plain": [
       "<AxesSubplot:title={'center':\"lauda's F1 Race Starts\"}, xlabel='season', ylabel='races'>"
      ]
     },
     "execution_count": 78,
     "metadata": {},
     "output_type": "execute_result"
    },
    {
     "data": {
      "image/png": "[encoded data removed]",
      "text/plain": [
       "<Figure size 432x288 with 1 Axes>"
      ]
     },
     "metadata": {
      "needs_background": "light"
     },
     "output_type": "display_data"
    }
   ],
   "source": [
    "plot_data_start.plot(title=f\"{driver}'s F1 Race Starts\", ylabel=\"races\")"
   ]
  },
  {
   "cell_type": "markdown",
   "metadata": {},
   "source": [
    "### Combine the plots by merging the dataframes (join)"
   ]
  },
  {
   "cell_type": "code",
   "execution_count": 79,
   "metadata": {},
   "outputs": [
    {
     "data": {
      "text/html": [
       "<div>\n",
       "<style scoped>\n",
       "    .dataframe tbody tr th:only-of-type {\n",
       "        vertical-align: middle;\n",
       "    }\n",
       "\n",
       "    .dataframe tbody tr th {\n",
       "        vertical-align: top;\n",
       "    }\n",
       "\n",
       "    .dataframe thead th {\n",
       "        text-align: right;\n",
       "    }\n",
       "</style>\n",
       "<table border=\"1\" class=\"dataframe\">\n",
       "  <thead>\n",
       "    <tr style=\"text-align: right;\">\n",
       "      <th>driver</th>\n",
       "      <th>starts</th>\n",
       "      <th>wins</th>\n",
       "    </tr>\n",
       "    <tr>\n",
       "      <th>season</th>\n",
       "      <th></th>\n",
       "      <th></th>\n",
       "    </tr>\n",
       "  </thead>\n",
       "  <tbody>\n",
       "    <tr>\n",
       "      <th>1971</th>\n",
       "      <td>1</td>\n",
       "      <td>0</td>\n",
       "    </tr>\n",
       "    <tr>\n",
       "      <th>1972</th>\n",
       "      <td>11</td>\n",
       "      <td>0</td>\n",
       "    </tr>\n",
       "    <tr>\n",
       "      <th>1973</th>\n",
       "      <td>14</td>\n",
       "      <td>0</td>\n",
       "    </tr>\n",
       "    <tr>\n",
       "      <th>1974</th>\n",
       "      <td>15</td>\n",
       "      <td>2</td>\n",
       "    </tr>\n",
       "    <tr>\n",
       "      <th>1975</th>\n",
       "      <td>14</td>\n",
       "      <td>5</td>\n",
       "    </tr>\n",
       "  </tbody>\n",
       "</table>\n",
       "</div>"
      ],
      "text/plain": [
       "driver  starts  wins\n",
       "season              \n",
       "1971         1     0\n",
       "1972        11     0\n",
       "1973        14     0\n",
       "1974        15     2\n",
       "1975        14     5"
      ]
     },
     "execution_count": 79,
     "metadata": {},
     "output_type": "execute_result"
    }
   ],
   "source": [
    "from functools import reduce\n",
    "plot_data = reduce(lambda  left,right: pd.merge(left,right,on=[\"season\"], how='inner'), [plot_data_start, plot_data_wins])\n",
    "plot_data.rename(\n",
    "    columns={\n",
    "        f\"{driver}_x\": \"starts\",\n",
    "        f\"{driver}_y\": \"wins\"\n",
    "    }, inplace=True)\n",
    "plot_data.head()"
   ]
  },
  {
   "cell_type": "code",
   "execution_count": 80,
   "metadata": {},
   "outputs": [
    {
     "data": {
      "text/plain": [
       "<AxesSubplot:title={'center':\"lauda's F1 Career\"}, xlabel='season', ylabel='races'>"
      ]
     },
     "execution_count": 80,
     "metadata": {},
     "output_type": "execute_result"
    },
    {
     "data": {
      "image/png": "[encoded data removed]",
      "text/plain": [
       "<Figure size 432x288 with 1 Axes>"
      ]
     },
     "metadata": {
      "needs_background": "light"
     },
     "output_type": "display_data"
    }
   ],
   "source": [
    "plot_data.plot(title=f\"{driver}'s F1 Career\", ylabel=\"races\")"
   ]
  },
  {
   "cell_type": "code",
   "execution_count": 81,
   "metadata": {},
   "outputs": [],
   "source": [
    "# explore more possibilities to store the results, e.g. to_sql()\n",
    "f1_career.to_csv(f\"../../results/f1_career_{driver}.csv\", index=False)"
   ]
  },
  {
   "cell_type": "markdown",
   "metadata": {},
   "source": [
    "### Combine the plots by concatenating two dataframes"
   ]
  },
  {
   "cell_type": "code",
   "execution_count": 82,
   "metadata": {},
   "outputs": [
    {
     "name": "stdout",
     "output_type": "stream",
     "text": [
      "                driver nationality constructor  season\n",
      "0               farina     Italian        alfa    1950\n",
      "1              fagioli     Italian        alfa    1950\n",
      "2          reg_parnell     British        alfa    1950\n",
      "3            cabantous      French        lago    1950\n",
      "4               rosier      French        lago    1950\n",
      "...                ...         ...         ...     ...\n",
      "25202  kevin_magnussen      Danish        haas    2022\n",
      "25203            albon        Thai    williams    2022\n",
      "25204           latifi    Canadian    williams    2022\n",
      "25205          tsunoda    Japanese  alphatauri    2022\n",
      "25206           bottas     Finnish        alfa    2022\n",
      "\n",
      "[25207 rows x 4 columns]\n"
     ]
    }
   ],
   "source": [
    "# concat 2 dataframes\n",
    "df_1 = f1_results[['driver', 'nationality']]\n",
    "df_2 = f1_results[['constructor', 'season']]\n",
    "\n",
    "# axis = 0 concatenates vertically (the small df's must have the same columns). Rows will be added\n",
    "# axis = 1 concatenates horizontally (a big df will be build from the 2 smaller df's). Columns will be added.\n",
    "big_df = pd.concat([df_1, df_2], axis=1)\n",
    "print(big_df)"
   ]
  },
  {
   "cell_type": "code",
   "execution_count": 83,
   "metadata": {},
   "outputs": [
    {
     "data": {
      "text/html": [
       "<div>\n",
       "<style scoped>\n",
       "    .dataframe tbody tr th:only-of-type {\n",
       "        vertical-align: middle;\n",
       "    }\n",
       "\n",
       "    .dataframe tbody tr th {\n",
       "        vertical-align: top;\n",
       "    }\n",
       "\n",
       "    .dataframe thead th {\n",
       "        text-align: right;\n",
       "    }\n",
       "</style>\n",
       "<table border=\"1\" class=\"dataframe\">\n",
       "  <thead>\n",
       "    <tr style=\"text-align: right;\">\n",
       "      <th>driver</th>\n",
       "      <th>lauda</th>\n",
       "      <th>lauda</th>\n",
       "    </tr>\n",
       "    <tr>\n",
       "      <th>season</th>\n",
       "      <th></th>\n",
       "      <th></th>\n",
       "    </tr>\n",
       "  </thead>\n",
       "  <tbody>\n",
       "    <tr>\n",
       "      <th>1971</th>\n",
       "      <td>1</td>\n",
       "      <td>0</td>\n",
       "    </tr>\n",
       "    <tr>\n",
       "      <th>1972</th>\n",
       "      <td>11</td>\n",
       "      <td>0</td>\n",
       "    </tr>\n",
       "    <tr>\n",
       "      <th>1973</th>\n",
       "      <td>14</td>\n",
       "      <td>0</td>\n",
       "    </tr>\n",
       "    <tr>\n",
       "      <th>1974</th>\n",
       "      <td>15</td>\n",
       "      <td>2</td>\n",
       "    </tr>\n",
       "    <tr>\n",
       "      <th>1975</th>\n",
       "      <td>14</td>\n",
       "      <td>5</td>\n",
       "    </tr>\n",
       "  </tbody>\n",
       "</table>\n",
       "</div>"
      ],
      "text/plain": [
       "driver  lauda  lauda\n",
       "season              \n",
       "1971        1      0\n",
       "1972       11      0\n",
       "1973       14      0\n",
       "1974       15      2\n",
       "1975       14      5"
      ]
     },
     "execution_count": 83,
     "metadata": {},
     "output_type": "execute_result"
    }
   ],
   "source": [
    "# recreate plot_data using concat\n",
    "del plot_data\n",
    "\n",
    "plot_data = pd.concat([plot_data_start, plot_data_wins], axis=1)\n",
    "plot_data.head()"
   ]
  },
  {
   "cell_type": "code",
   "execution_count": 84,
   "metadata": {},
   "outputs": [
    {
     "data": {
      "text/plain": [
       "<AxesSubplot:title={'center':\"lauda's F1 Career\"}, xlabel='season', ylabel='races'>"
      ]
     },
     "execution_count": 84,
     "metadata": {},
     "output_type": "execute_result"
    },
    {
     "data": {
      "image/png": "[encoded data removed]",
      "text/plain": [
       "<Figure size 432x288 with 1 Axes>"
      ]
     },
     "metadata": {
      "needs_background": "light"
     },
     "output_type": "display_data"
    }
   ],
   "source": [
    "plot_data.plot(title=f\"{driver}'s F1 Career\", ylabel=\"races\")"
   ]
  }
 ],
 "metadata": {
  "kernelspec": {
   "display_name": "Python 3.10.5 64-bit",
   "language": "python",
   "name": "python3"
  },
  "language_info": {
   "codemirror_mode": {
    "name": "ipython",
    "version": 3
   },
   "file_extension": ".py",
   "mimetype": "text/x-python",
   "name": "python",
   "nbconvert_exporter": "python",
   "pygments_lexer": "ipython3",
   "version": "3.10.5"
  },
  "orig_nbformat": 4,
  "vscode": {
   "interpreter": {
    "hash": "aee8b7b246df8f9039afb4144a1f6fd8d2ca17a180786b69acc140d282b71a49"
   }
  }
 },
 "nbformat": 4,
 "nbformat_minor": 2
}
