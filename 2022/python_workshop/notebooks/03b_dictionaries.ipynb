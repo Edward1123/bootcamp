{
 "cells": [
  {
   "cell_type": "markdown",
   "metadata": {},
   "source": [
    "# Dictionaries\n",
    "A dictionary is another composite type, similar to a list in that it is a collection of objects.\n",
    "\n",
    "Dictionaries and lists have these attributes in common:\n",
    "- mutable\n",
    "- dynamic (grow and shrink as needed)\n",
    "- can be nested\n",
    "\n",
    "The difference between lists and dictionaries is on how the objects are accessed,\n",
    "- list elements are accessed by index\n",
    "- dictionary elements are accessed by key\n",
    "\n",
    "## How do you define a dictionary?\n",
    "Dictionaries in Python is an implementation of a data structure more generally known as associative array. It consists of a collection of key-value pairs - each pair maps a key to an associated value.\n",
    "\n",
    "```\n",
    "d = {\n",
    "    k1: v1,\n",
    "    k2: v2\n",
    "}\n",
    "```"
   ]
  },
  {
   "cell_type": "code",
   "execution_count": null,
   "metadata": {},
   "outputs": [],
   "source": [
    "f1_teams = {\n",
    "    \"Leclerc\": \"Ferrari\",\n",
    "    \"Sainz\": \"Ferrari\",\n",
    "    \"Verstappen\": \"Redbull\",\n",
    "    \"Perez\": \"Redbull\",\n",
    "    \"Hamilton\": \"Mercedes\",\n",
    "    \"Russel\": \"Mercedes\",\n",
    "    \"Norris\": \"McLaren\",\n",
    "    \"Ricciardo\": \"McLaren\",\n",
    "    \"Alonso\": \"Alpine\",\n",
    "    \"Ocon\": \"Alpine\",\n",
    "    \"Zhou\": \"Alfa Romeo\",\n",
    "    \"Bottas\": \"Alfa Romeo\",\n",
    "    \"Haas\": \"Schumacher\",\n",
    "    \"Haas\": \"Magnussen\",\n",
    "    \"Tsunoda\": \"AlphaTauri\",\n",
    "    \"Gasly\": \"AlphaTauri\",\n",
    "    \"Vettel\": \"Aston Martin\",\n",
    "    \"Stroll\": \"Aston Martin\",\n",
    "    \"Albon\": \"Williams\",\n",
    "    \"Latifi\": \"Williams\"\n",
    "}"
   ]
  },
  {
   "cell_type": "markdown",
   "metadata": {},
   "source": [
    "You can also define a dictionary by using the `dict` command.\n",
    "```\n",
    "d = dict([\n",
    "  (k1, v1),\n",
    "  (k2, v2)\n",
    "])\n",
    "```\n",
    "If the key values are simple strings, they can be specified as simple arguments.\n",
    "```\n",
    "d = dict(\n",
    "  k1=v1,\n",
    "  k2=v2\n",
    ")\n",
    "```"
   ]
  },
  {
   "cell_type": "code",
   "execution_count": null,
   "metadata": {},
   "outputs": [],
   "source": [
    "type(f1_teams)"
   ]
  },
  {
   "cell_type": "markdown",
   "metadata": {},
   "source": [
    "## Accessing dictionary values"
   ]
  }
 ],
 "metadata": {
  "kernelspec": {
   "display_name": "Python 3.10.5",
   "language": "python",
   "name": "py10"
  },
  "language_info": {
   "codemirror_mode": {
    "name": "ipython",
    "version": 3
   },
   "file_extension": ".py",
   "mimetype": "text/x-python",
   "name": "python",
   "nbconvert_exporter": "python",
   "pygments_lexer": "ipython3",
   "version": "3.10.5"
  },
  "orig_nbformat": 4,
  "vscode": {
   "interpreter": {
    "hash": "bbba1b5611a891188d22c8a85d6b977eee90b42dc69507f0ebb16e3ea86a170c"
   }
  }
 },
 "nbformat": 4,
 "nbformat_minor": 2
}
