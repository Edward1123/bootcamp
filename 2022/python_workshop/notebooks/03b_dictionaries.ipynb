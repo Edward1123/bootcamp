{
 "cells": [
  {
   "cell_type": "markdown",
   "metadata": {},
   "source": [
    "# Dictionaries\n",
    "A dictionary is another composite type, similar to a list in that it is a collection of objects.\n",
    "\n",
    "Dictionaries and lists have these attributes in common:\n",
    "- mutable\n",
    "- dynamic (grow and shrink as needed)\n",
    "- can be nested\n",
    "\n",
    "The difference between lists and dictionaries is on how the objects are accessed,\n",
    "- list elements are accessed by index\n",
    "- dictionary elements are accessed by key\n",
    "\n",
    "## How do you define a dictionary?\n",
    "Dictionaries in Python is an implementation of a data structure more generally known as associative array. It consists of a collection of key-value pairs - each pair maps a key to an associated value.\n",
    "\n",
    "```\n",
    "d = {\n",
    "    k1: v1,\n",
    "    k2: v2\n",
    "}\n",
    "```"
   ]
  },
  {
   "cell_type": "code",
   "execution_count": null,
   "metadata": {},
   "outputs": [],
   "source": [
    "f1_teams = {\n",
    "    \"Leclerc\": \"Ferrari\",\n",
    "    \"Sainz\": \"Ferrari\",\n",
    "    \"Verstappen\": \"Redbull\",\n",
    "    \"Perez\": \"Redbull\",\n",
    "    \"Hamilton\": \"Mercedes\",\n",
    "    \"Russel\": \"Mercedes\",\n",
    "    \"Norris\": \"McLaren\",\n",
    "    \"Ricciardo\": \"McLaren\",\n",
    "    \"Alonso\": \"Alpine\",\n",
    "    \"Ocon\": \"Alpine\",\n",
    "    \"Zhou\": \"Alfa Romeo\",\n",
    "    \"Bottas\": \"Alfa Romeo\",\n",
    "    \"Haas\": \"Schumacher\",\n",
    "    \"Haas\": \"Magnussen\",\n",
    "    \"Tsunoda\": \"AlphaTauri\",\n",
    "    \"Gasly\": \"AlphaTauri\",\n",
    "    \"Vettel\": \"Aston Martin\",\n",
    "    \"Stroll\": \"Aston Martin\",\n",
    "    \"Albon\": \"Williams\",\n",
    "    \"Latifi\": \"Williams\"\n",
    "}"
   ]
  },
  {
   "cell_type": "markdown",
   "metadata": {},
   "source": [
    "You can also define a dictionary by using the `dict` command.\n",
    "```\n",
    "d = dict([\n",
    "  (k1, v1),\n",
    "  (k2, v2)\n",
    "])\n",
    "```\n",
    "If the key values are simple strings, they can be specified as simple arguments.\n",
    "```\n",
    "d = dict(\n",
    "  k1=v1,\n",
    "  k2=v2\n",
    ")\n",
    "```"
   ]
  },
  {
   "cell_type": "code",
   "execution_count": null,
   "metadata": {},
   "outputs": [],
   "source": [
    "type(f1_teams)"
   ]
  },
  {
   "cell_type": "markdown",
   "metadata": {},
   "source": [
    "## Accessing dictionary values\n",
    "```\n",
    "dict.get('k1')\n",
    "dict['k1']\n",
    "```\n",
    "### Usage\n",
    "* great for send-receive sets of parameters. Using .json files (text file structures similar to dictionary) the parameters can be stored / sent between systems\n",
    "* can be used at implementing maping functions (emulate if ... elif blocks)\n",
    "### Methods and operations with dictionaries\n",
    "* __dict()__: function to create an empty dictionary\n",
    "* __keys()__: return a list containing the dictionary's keys\n",
    "* __items()__: Returns a list containing a tuple for each key value pair\n",
    "* __get(*`key`*)__: Returns the value of the specified key\n",
    "* __fromkeys(*`iterable`*)__: Returns a dictionary with the specified keys from iterable and corresponding values\n",
    "* __copy()__: Returns a dictionary as a copy from current\n",
    "* __pop(*`key`*)__: Removes the element with the specified key\n",
    "* __popitem()__: Removes the last inserted key-value pair\n",
    "* add an element: just issue name_of_dic[`new_key1`] = *`new_value`*\n",
    "* loop in dictionary elements: use items(): *`for key, val in name_of_dic.items():`*"
   ]
  }
 ],
 "metadata": {
  "kernelspec": {
   "display_name": "Python 3.8.0 64-bit",
   "language": "python",
   "name": "python3"
  },
  "language_info": {
   "codemirror_mode": {
    "name": "ipython",
    "version": 3
   },
   "file_extension": ".py",
   "mimetype": "text/x-python",
   "name": "python",
   "nbconvert_exporter": "python",
   "pygments_lexer": "ipython3",
   "version": "3.8.0"
  },
  "orig_nbformat": 4,
  "vscode": {
   "interpreter": {
    "hash": "83bca74902d8d95dc0f4d5ef6f135f4aa78da41c0c8e870768b6659e568e6a46"
   }
  }
 },
 "nbformat": 4,
 "nbformat_minor": 2
}
